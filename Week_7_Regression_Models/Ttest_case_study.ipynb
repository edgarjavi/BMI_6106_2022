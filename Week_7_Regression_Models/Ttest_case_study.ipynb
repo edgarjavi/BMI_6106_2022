{
 "cells": [
  {
   "cell_type": "markdown",
   "metadata": {},
   "source": [
    "## Case study. Lead exposure effects on Neurological and Psychological function in Children. \n",
    "\n",
    "####This example has been taken from Fundamentals of Biostatistics 7ed. "
   ]
  },
  {
   "cell_type": "markdown",
   "metadata": {},
   "source": [
    "This is a study that invetigates the effect of lead exposure on Children using several biometrical measurements. The study was carried out by Dr. Philip Landrigan at Mt. Sinai Medical Center. In this dataset, there are multiple measurements that try to disentangle medical outcomes with environmental effectors.\n",
    "\n",
    "lead's blood levels were measured on kids of two groups, group 1 a set of children with lead levels less than 40 ug/mL and group 2 kids that had lead levels higher or equal than 40ug/mL.\n",
    "\n",
    "We will evaluate two different outcome variables:\n",
    "A. The number of finger-wrist taps in the dominant hand in 10 seconds (MAXFWT) - this is a measurement of Neurodevelopment function\n",
    "B. the Wechsler full-scale IQ score (IQF) - This is a measurement of intellectual development.\n"
   ]
  },
  {
   "cell_type": "markdown",
   "metadata": {},
   "source": [
    "A. Load and evaluate the data, then run a t-test that compares each variable between the cases and controls. (Remember to evaluate equality of variance first)"
   ]
  },
  {
   "cell_type": "code",
   "execution_count": null,
   "metadata": {},
   "outputs": [],
   "source": [
    "comp = read.csv(\"LEAD.DAT.csv\")\n"
   ]
  },
  {
   "cell_type": "code",
   "execution_count": null,
   "metadata": {},
   "outputs": [],
   "source": [
    "##Subset based on the index of the variables\n",
    "##you can subset also using the column names\n",
    "lead_sub = comp[,c(21,40)]\n",
    "\n",
    "#remove missing data == 99\n",
    "lead_tap = lead_sub[lead_sub$maxfwt!=99,]\n",
    "nrow(lead_tap)"
   ]
  },
  {
   "cell_type": "code",
   "execution_count": null,
   "metadata": {},
   "outputs": [],
   "source": [
    "##subset IQ variable and group\n",
    "lead_iq = comp[,c(18,21)]"
   ]
  },
  {
   "cell_type": "code",
   "execution_count": null,
   "metadata": {},
   "outputs": [],
   "source": [
    "##make the group for both datasets a factor variable\n",
    "lead_tap$Group = as.factor(lead_tap$Group)\n",
    "lead_iq$Group = as.factor(lead_iq$Group)"
   ]
  },
  {
   "cell_type": "code",
   "execution_count": null,
   "metadata": {},
   "outputs": [],
   "source": [
    "##Produce Boxplots\n",
    "library(car)\n",
    "Boxplot(lead_tap$maxfwt ~ lead_tap$Group)"
   ]
  },
  {
   "cell_type": "code",
   "execution_count": null,
   "metadata": {},
   "outputs": [],
   "source": [
    "Boxplot(lead_iq$iqf ~ lead_iq$Group)"
   ]
  },
  {
   "cell_type": "code",
   "execution_count": null,
   "metadata": {},
   "outputs": [],
   "source": [
    "##Evaluate equality of the variances between the two groups on \n",
    "##the tapping test outcome\n",
    "var.test(lead_tap$maxfwt ~ lead_tap$Group)"
   ]
  },
  {
   "cell_type": "code",
   "execution_count": null,
   "metadata": {},
   "outputs": [],
   "source": [
    "##Evaluate equality of the variances between the two groups on \n",
    "##the IQ test outcome\n",
    "var.test(lead_iq$iqf ~ lead_iq$Group)"
   ]
  },
  {
   "cell_type": "code",
   "execution_count": null,
   "metadata": {},
   "outputs": [],
   "source": [
    "##As the var test was non significant, we can run the t-test with\n",
    "##equal variances\n",
    "t.test(lead_tap$maxfwt ~ lead_tap$Group,var.equal = T)"
   ]
  },
  {
   "cell_type": "code",
   "execution_count": null,
   "metadata": {},
   "outputs": [],
   "source": [
    "t.test(lead_iq$iqf ~ lead_iq$Group,var.equal = T)"
   ]
  },
  {
   "cell_type": "code",
   "execution_count": null,
   "metadata": {},
   "outputs": [],
   "source": [
    "##Is the data normally distributed?? are the bad outliers?\n",
    "qqnorm(lead_tap$maxfwt)"
   ]
  },
  {
   "cell_type": "code",
   "execution_count": null,
   "metadata": {},
   "outputs": [],
   "source": [
    "##Another way to evaluate outlier\n",
    "stem(lead_tap$maxfwt[lead_iq$Group==2])"
   ]
  },
  {
   "cell_type": "code",
   "execution_count": null,
   "metadata": {},
   "outputs": [],
   "source": [
    "##Get mean, sd, and counts by group using dplyr\n",
    "library(dplyr)\n",
    "lead_tap %>% group_by(Group) %>% summarise(Mean = mean(maxfwt, na.rm=TRUE))"
   ]
  },
  {
   "cell_type": "code",
   "execution_count": null,
   "metadata": {},
   "outputs": [],
   "source": [
    "lead_tap %>% group_by(Group) %>% summarise(SD = sd(maxfwt, na.rm=TRUE))"
   ]
  },
  {
   "cell_type": "code",
   "execution_count": null,
   "metadata": {},
   "outputs": [],
   "source": [
    "lead_tap %>% group_by(Group) %>% count()"
   ]
  },
  {
   "cell_type": "markdown",
   "metadata": {},
   "source": [
    "### To Calculate ESD:\n",
    "\n",
    "$$max_{i=1,....,n}|x_i - \\bar{x}| / S $$\n",
    "\n",
    "#### Compute the ESD statistic for the finger–wrist tapping scores for the control group."
   ]
  },
  {
   "cell_type": "markdown",
   "metadata": {},
   "source": [
    "$\\bar{x}$ group 1 = 54.4 s = 12.05\n",
    "### There are two outliers to evaluate 13 and 84, we can calculate the absolute difference between each value and the mean to see which is the most distant outlier."
   ]
  },
  {
   "cell_type": "code",
   "execution_count": null,
   "metadata": {},
   "outputs": [],
   "source": [
    "abs(13 - 54.4)\n",
    "abs(84-54.4)"
   ]
  },
  {
   "cell_type": "markdown",
   "metadata": {},
   "source": [
    "### we select 13 and calculate the ESD for it."
   ]
  },
  {
   "cell_type": "code",
   "execution_count": null,
   "metadata": {},
   "outputs": [],
   "source": [
    "41.4/12.1"
   ]
  },
  {
   "cell_type": "markdown",
   "metadata": {},
   "source": [
    "### We then use the ESD table to obtain the critical value for this distribution\n",
    "\n",
    "$ESD_{(64,0.95)} = 3.22$\n",
    "\n",
    "### as 3.42 $>$ 3.22, then we reject the null hypothesis as the ESD statistics for the value 13 in the finger-wrist tapping control group is larger than the critical value for such distribution"
   ]
  },
  {
   "cell_type": "markdown",
   "metadata": {},
   "source": [
    "### What would be the ideal range of deviations from the standard normal distribution if there were no outliers?\n",
    "We can calculate this value using:\n",
    "\n",
    "$ 100\\% * \\dfrac{n}{n+1} $th percentile"
   ]
  },
  {
   "cell_type": "code",
   "execution_count": null,
   "metadata": {},
   "outputs": [],
   "source": [
    "##evaluate the ideal critical value with no outliers for the control group\n",
    "100 * 64/65 #= 98.46"
   ]
  },
  {
   "cell_type": "code",
   "execution_count": null,
   "metadata": {},
   "outputs": [],
   "source": [
    "##Calculating the Standardize value we get that the ideal range is 2.17 \n",
    "##for the control group with no outliers\n",
    "qnorm(0.985, mean=0, sd=1)"
   ]
  },
  {
   "cell_type": "markdown",
   "metadata": {},
   "source": [
    "### If we evaluate the expose group the same way, we get:\n",
    "$\\bar{x}$ group 2 = 47.4 s = 13.2 n = 35\n",
    "The minimum and maximum values are 13 and 83"
   ]
  },
  {
   "cell_type": "code",
   "execution_count": null,
   "metadata": {},
   "outputs": [],
   "source": [
    "abs(13 - 47.4)\n",
    "abs(83-47.4)"
   ]
  },
  {
   "cell_type": "markdown",
   "metadata": {},
   "source": [
    "## We therefore select 84 as the biggest outlier, we calculate ESD and evaluate against the critical value"
   ]
  },
  {
   "cell_type": "code",
   "execution_count": null,
   "metadata": {},
   "outputs": [],
   "source": [
    "abs(83-47.4)/13.2"
   ]
  },
  {
   "cell_type": "markdown",
   "metadata": {},
   "source": [
    "$ESD_{(35,0.95)} = 2.98$\n",
    "\n",
    "### as 2.70 $<$ 2.98, then we do not reject the null hypothesis as the ESD statistics for the value 84 in the finger-wrist tapping exposed group is smaller than the critical value for such distribution\n",
    "\n",
    "### However, this does not seem to coincide with all the descriptive statistics (qqplot, stem plot, boxplot, etc). There might be a masking problem due to the effect of multiple outliers on the variance of the distributions. We should use the multi-level approach."
   ]
  },
  {
   "cell_type": "markdown",
   "metadata": {},
   "source": [
    "## How many outliers should we evaluate? we can use an upper bound of min([n/10], 5).\n",
    "\n",
    "#### From the fundamentals of biostatistics textbook \"If there are more than five outliers in a data set, then we most likely have an underlying nonnormal distribution, unless the sample size is very large.\""
   ]
  },
  {
   "cell_type": "code",
   "execution_count": null,
   "metadata": {},
   "outputs": [],
   "source": [
    "35/10 = 3.5 \n",
    "##3 outliers"
   ]
  },
  {
   "cell_type": "code",
   "execution_count": null,
   "metadata": {},
   "outputs": [],
   "source": [
    "exp = lead_tap %>% filter(Group == 2)\n",
    "nrow(exp)\n",
    "min(exp$maxfwt)\n",
    "max(exp$maxfwt)\n",
    "mean(exp$maxfwt)\n",
    "sd(exp$maxfwt)"
   ]
  },
  {
   "cell_type": "code",
   "execution_count": null,
   "metadata": {},
   "outputs": [],
   "source": [
    "abs(13 - 47.2)\n",
    "abs(84-47.2)"
   ]
  },
  {
   "cell_type": "code",
   "execution_count": null,
   "metadata": {},
   "outputs": [],
   "source": [
    "exp2 = exp[!(exp$maxfwt==83),]\n",
    "nrow(exp2)\n",
    "min(exp2$maxfwt)\n",
    "max(exp2$maxfwt)\n",
    "mean(exp2$maxfwt)\n",
    "sd(exp2$maxfwt)"
   ]
  },
  {
   "cell_type": "code",
   "execution_count": null,
   "metadata": {},
   "outputs": [],
   "source": [
    "abs(13 - 46.4)\n",
    "abs(70-46.4)"
   ]
  },
  {
   "cell_type": "code",
   "execution_count": null,
   "metadata": {},
   "outputs": [],
   "source": [
    "abs(13 - 46.4)/11.8"
   ]
  },
  {
   "cell_type": "markdown",
   "metadata": {},
   "source": [
    "### We then remove 13 from the sample and evaluate the next set of outliers"
   ]
  },
  {
   "cell_type": "code",
   "execution_count": null,
   "metadata": {},
   "outputs": [],
   "source": [
    "exp3 = exp2[!(exp2$maxfwt==13),]\n",
    "nrow(exp3)\n",
    "min(exp3$maxfwt)\n",
    "max(exp3$maxfwt)\n",
    "mean(exp3$maxfwt)\n",
    "sd(exp3$maxfwt)"
   ]
  },
  {
   "cell_type": "code",
   "execution_count": null,
   "metadata": {},
   "outputs": [],
   "source": [
    "abs(14 - 47.4)\n",
    "abs(70 - 47.4)"
   ]
  },
  {
   "cell_type": "markdown",
   "metadata": {},
   "source": [
    "### We select 14 as out last outlier."
   ]
  },
  {
   "cell_type": "code",
   "execution_count": null,
   "metadata": {},
   "outputs": [],
   "source": [
    "abs(14 - 47.4)/10.35"
   ]
  },
  {
   "cell_type": "markdown",
   "metadata": {},
   "source": [
    "$ESD_{(33,0.95)} = 2.98$\n",
    "\n",
    "### as 3.22 $>$ 2.98, then we reject the null hypothesis as the ESD statistics for the value 14 in the finger-wrist tapping exposed group is larger than the critical value for such distribution. Therefore, we determine that all three outliers are statistically different from the distribution.\n",
    "\n",
    "## Next we could remove the 3 outliers from the exposed group and evaluate the control group and run the t-test again without the outliers to evaluate the parameters between the two distributions"
   ]
  },
  {
   "cell_type": "markdown",
   "metadata": {},
   "source": [
    "#### For the controls, we calculate how many outliers to evaluate:\n",
    "\n",
    "min([64/10], 5) = min(6, 5) = 5\n",
    "\n",
    "#### And proceed to the same procedure as before.\n",
    "\n",
    "## Note that on the next table the last outlier showed a nonsignificant value, after that you go back to the previous value and evaluate significance and so on until you find a significan value, in this case the first value, which is the same we obtain using the single outlier approach."
   ]
  },
  {
   "cell_type": "markdown",
   "metadata": {},
   "source": [
    "![title](Table_controls_outliers.png)"
   ]
  },
  {
   "cell_type": "code",
   "execution_count": null,
   "metadata": {},
   "outputs": [],
   "source": []
  }
 ],
 "metadata": {
  "kernelspec": {
   "display_name": "R",
   "language": "R",
   "name": "ir"
  },
  "language_info": {
   "codemirror_mode": "r",
   "file_extension": ".r",
   "mimetype": "text/x-r-source",
   "name": "R",
   "pygments_lexer": "r",
   "version": "4.1.2"
  }
 },
 "nbformat": 4,
 "nbformat_minor": 4
}
